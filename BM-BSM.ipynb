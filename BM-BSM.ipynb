{
  "nbformat": 4,
  "nbformat_minor": 0,
  "metadata": {
    "colab": {
      "provenance": [],
      "include_colab_link": true
    },
    "kernelspec": {
      "name": "python3",
      "display_name": "Python 3"
    },
    "language_info": {
      "name": "python"
    }
  },
  "cells": [
    {
      "cell_type": "markdown",
      "metadata": {
        "id": "view-in-github",
        "colab_type": "text"
      },
      "source": [
        "<a href=\"https://colab.research.google.com/github/Raj-Harshit23/FinSearch---Option-Pricing-Models/blob/main/BM-BSM.ipynb\" target=\"_parent\"><img src=\"https://colab.research.google.com/assets/colab-badge.svg\" alt=\"Open In Colab\"/></a>"
      ]
    },
    {
      "cell_type": "code",
      "source": [
        "!pip install --upgrade --no-cache-dir git+https://github.com/rongardF/tvdatafeed.git"
      ],
      "metadata": {
        "colab": {
          "base_uri": "https://localhost:8080/"
        },
        "id": "lZy835hFUB0C",
        "outputId": "9550fe3e-31af-4c1c-8b22-875374618c0e"
      },
      "execution_count": null,
      "outputs": [
        {
          "output_type": "stream",
          "name": "stdout",
          "text": [
            "Collecting git+https://github.com/rongardF/tvdatafeed.git\n",
            "  Cloning https://github.com/rongardF/tvdatafeed.git to /tmp/pip-req-build-46om5q92\n",
            "  Running command git clone --filter=blob:none --quiet https://github.com/rongardF/tvdatafeed.git /tmp/pip-req-build-46om5q92\n",
            "  Resolved https://github.com/rongardF/tvdatafeed.git to commit e6f6aaa7de439ac6e454d9b26d2760ded8dc4923\n",
            "  Preparing metadata (setup.py) ... \u001b[?25l\u001b[?25hdone\n",
            "Requirement already satisfied: setuptools in /usr/local/lib/python3.10/dist-packages (from tvdatafeed==2.1.0) (67.7.2)\n",
            "Requirement already satisfied: pandas in /usr/local/lib/python3.10/dist-packages (from tvdatafeed==2.1.0) (2.0.3)\n",
            "Requirement already satisfied: websocket-client in /usr/local/lib/python3.10/dist-packages (from tvdatafeed==2.1.0) (1.8.0)\n",
            "Requirement already satisfied: requests in /usr/local/lib/python3.10/dist-packages (from tvdatafeed==2.1.0) (2.31.0)\n",
            "Requirement already satisfied: python-dateutil>=2.8.2 in /usr/local/lib/python3.10/dist-packages (from pandas->tvdatafeed==2.1.0) (2.8.2)\n",
            "Requirement already satisfied: pytz>=2020.1 in /usr/local/lib/python3.10/dist-packages (from pandas->tvdatafeed==2.1.0) (2023.4)\n",
            "Requirement already satisfied: tzdata>=2022.1 in /usr/local/lib/python3.10/dist-packages (from pandas->tvdatafeed==2.1.0) (2024.1)\n",
            "Requirement already satisfied: numpy>=1.21.0 in /usr/local/lib/python3.10/dist-packages (from pandas->tvdatafeed==2.1.0) (1.25.2)\n",
            "Requirement already satisfied: charset-normalizer<4,>=2 in /usr/local/lib/python3.10/dist-packages (from requests->tvdatafeed==2.1.0) (3.3.2)\n",
            "Requirement already satisfied: idna<4,>=2.5 in /usr/local/lib/python3.10/dist-packages (from requests->tvdatafeed==2.1.0) (3.7)\n",
            "Requirement already satisfied: urllib3<3,>=1.21.1 in /usr/local/lib/python3.10/dist-packages (from requests->tvdatafeed==2.1.0) (2.0.7)\n",
            "Requirement already satisfied: certifi>=2017.4.17 in /usr/local/lib/python3.10/dist-packages (from requests->tvdatafeed==2.1.0) (2024.7.4)\n",
            "Requirement already satisfied: six>=1.5 in /usr/local/lib/python3.10/dist-packages (from python-dateutil>=2.8.2->pandas->tvdatafeed==2.1.0) (1.16.0)\n"
          ]
        }
      ]
    },
    {
      "cell_type": "code",
      "source": [
        "import math\n",
        "def CRRTree(K,T,S,sig,r,N,PorC):\n",
        "\n",
        "    dt=T/N;\n",
        "    dxu=math.exp(sig*math.sqrt(dt));\n",
        "    dxd=math.exp(-sig*math.sqrt(dt));\n",
        "    pu=((math.exp(r*dt))-dxd)/(dxu-dxd);\n",
        "    pd=1-pu;\n",
        "    disc=math.exp(-r*dt);\n",
        "\n",
        "    St = [0] * (N+1)\n",
        "    C = [0] * (N+1)\n",
        "\n",
        "    St[0]=S*dxd**N;\n",
        "\n",
        "    for j in range(1, N+1):\n",
        "        St[j] = St[j-1] * dxu/dxd;\n",
        "\n",
        "    for j in range(1, N+1):\n",
        "        if PorC == 'p':\n",
        "            C[j] = max(K-St[j],0);\n",
        "        elif PorC == 'c':\n",
        "            C[j] = max(St[j]-K,0);\n",
        "\n",
        "    for i in range(N, 0, -1):\n",
        "        for j in range(0, i):\n",
        "            C[j] = disc*(pu*C[j+1]+pd*C[j]);\n",
        "\n",
        "    return C[0]"
      ],
      "metadata": {
        "id": "5YU-ILaKm-Eq"
      },
      "execution_count": null,
      "outputs": []
    },
    {
      "cell_type": "code",
      "source": [],
      "metadata": {
        "id": "vcyBQrQniUvO"
      },
      "execution_count": null,
      "outputs": []
    },
    {
      "cell_type": "code",
      "source": [
        "import math\n",
        "\n",
        "def fnor2(x):\n",
        "\n",
        "    y=0.5*(1+math.erf(x/math.sqrt(2)));\n",
        "\n",
        "    return y\n",
        "\n",
        "def BS(t,St,K,T,r,sig,PorC):\n",
        "\n",
        "    Tmt=T-t;\n",
        "    ATmt=sig*math.sqrt(Tmt);\n",
        "    logo=math.log(St/K);\n",
        "    Ap=(logo+(r+0.5*sig**2)*Tmt)/ATmt;\n",
        "    An=Ap-ATmt;\n",
        "\n",
        "    if PorC == 'c':\n",
        "        p=St*fnor2(Ap)-K*math.exp(-r*Tmt)*fnor2(An);\n",
        "    elif PorC == 'p':\n",
        "        p=K*math.exp(-r*Tmt)*fnor2(-An)-St*fnor2(-Ap);\n",
        "\n",
        "    return p"
      ],
      "metadata": {
        "id": "ZhZV3aS9m_KH"
      },
      "execution_count": null,
      "outputs": []
    },
    {
      "cell_type": "code",
      "execution_count": null,
      "metadata": {
        "colab": {
          "base_uri": "https://localhost:8080/"
        },
        "id": "XJ9tkmFPRk4o",
        "outputId": "8338c91b-27f0-4ab9-b24c-05e90ce72f74"
      },
      "outputs": [
        {
          "output_type": "stream",
          "name": "stderr",
          "text": [
            "WARNING:tvDatafeed.main:you are using nologin method, data you access may be limited\n"
          ]
        }
      ],
      "source": [
        "from matplotlib import pyplot as plt\n",
        "import numpy as np\n",
        "import pandas as pd\n",
        "from tvDatafeed import TvDatafeed, Interval ##used to get the historical data\n",
        "import random\n",
        "## top 10 stocks\n",
        "n50=np.array(['NIFTY','HINDALCO','MARUTI','NESTLEIND', 'ONGC', 'TATAMOTORS','ITC','SUNPHARMA','BHARATIARTL','CIPLA'])\n",
        "result=pd.DataFrame(columns=['Start', 'Strike', 'Market Premium', 'BS Premium', 'Binomial Premium', 'BS Error', 'Binomial Error'])\n",
        "\n",
        "\n",
        "for b in range(0,3):\n",
        "  tv=TvDatafeed()\n",
        "  data=tv.get_hist(symbol=n50[b],exchange='NSE',interval=Interval.in_daily,n_bars=1100)\n",
        "  df=pd.DataFrame(data)\n",
        "  vd=252 ##offset for volatility\n",
        "  rf=0.0695  ## risk free rate\n",
        "  df=df.drop(['symbol','high','low','volume'],axis=1)\n",
        "  df.reset_index(inplace=True)\n",
        "  df['datetime']=pd.to_datetime(df['datetime'])\n",
        "  df['day_of_week']=df['datetime'].dt.day_of_week ## if day of week is 3, it is thursday\n",
        "  df['date']=df['datetime'].dt.day\n",
        "  df['daily_return']=np.log(df['close']/df['open'])\n",
        "  #print(df.head())\n",
        "  act_index=[]\n",
        "  for i in range(1080-vd):\n",
        "    if df.loc[i+vd,'date'] > df.loc[i+vd+1,'date']:\n",
        "      flag=False\n",
        "      for j in range(5):\n",
        "        if df.loc[i+vd-j,'day_of_week'] == 3:\n",
        "          act_index.append(i+vd-j)\n",
        "          flag=True\n",
        "          break\n",
        "      ## incase the given thursadayis a holiday, we would check on the friday. this ensures that we dont skip any month\n",
        "      ## due to lack of thursday data in the dataframe\n",
        "      if flag==False:\n",
        "        for j in range(5):\n",
        "          if df.loc[i+vd-j,'day_of_week'] == 4:\n",
        "            act_index.append(i+vd-j)\n",
        "            flag=True\n",
        "            break\n",
        "  #print(len(act_index))\n",
        "  #print(df.loc[act_index])\n",
        "  #print(df[410:420])\n",
        "  ## now calculating for each index/month\n",
        "  for e in range(39):\n",
        "    start_index=act_index[e]\n",
        "    start_price=df.loc[start_index,'open']\n",
        "    vol=df.loc[start_index-252:start_index,'daily_return']\n",
        "    vol=vol.to_numpy()\n",
        "    sigma=vol.std()*np.sqrt(252)\n",
        "    #print(sigma)\n",
        "\n",
        "    for num_of_sps in range(-2,3):\n",
        "      strike_price=start_price+num_of_sps*sigma*start_price*0.5\n",
        "      bs_premium=BS(0,start_price,strike_price,1.0/12,rf,sigma,'c')\n",
        "      bt_premium=CRRTree(strike_price,1.0/12,start_price,sigma,rf,500,'c')\n",
        "      market_premium=df.loc[start_index+1,'open']-strike_price\n",
        "      result.loc[len(result)] ={\n",
        "        'Start': start_price,\n",
        "        'Strike': strike_price,\n",
        "        'Market Premium': market_premium,\n",
        "        'BS Premium': bs_premium,\n",
        "        'Binomial Premium': bt_premium,\n",
        "        'BS Error': abs(bs_premium - market_premium),\n",
        "        'Binomial Error': abs(bt_premium - market_premium),\n",
        "      }\n",
        "  print(result)"
      ]
    },
    {
      "cell_type": "code",
      "source": [],
      "metadata": {
        "id": "R-PXpSRffF5O"
      },
      "execution_count": null,
      "outputs": []
    }
  ]
}